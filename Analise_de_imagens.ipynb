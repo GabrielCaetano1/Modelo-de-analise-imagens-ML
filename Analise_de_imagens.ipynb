{
  "nbformat": 4,
  "nbformat_minor": 0,
  "metadata": {
    "colab": {
      "provenance": [],
      "authorship_tag": "ABX9TyOLZpVLbdQee+i9NlC7gjns",
      "include_colab_link": true
    },
    "kernelspec": {
      "name": "python3",
      "display_name": "Python 3"
    },
    "language_info": {
      "name": "python"
    }
  },
  "cells": [
    {
      "cell_type": "markdown",
      "metadata": {
        "id": "view-in-github",
        "colab_type": "text"
      },
      "source": [
        "<a href=\"https://colab.research.google.com/github/GabrielCaetano1/Modelo-de-analise-imagens-ML/blob/main/Analise_de_imagens.ipynb\" target=\"_parent\"><img src=\"https://colab.research.google.com/assets/colab-badge.svg\" alt=\"Open In Colab\"/></a>"
      ]
    },
    {
      "cell_type": "markdown",
      "source": [
        "Oficina 4: Este modelo analisa as imagens do MNIST do Tensorflow e as separa entre ímpar e par que representam Amigos e Familia respectivamente."
      ],
      "metadata": {
        "id": "dqDLkDPOTBwr"
      }
    },
    {
      "cell_type": "markdown",
      "source": [
        "Importação das Libs:"
      ],
      "metadata": {
        "id": "kzH0LXlUTYMi"
      }
    },
    {
      "cell_type": "code",
      "execution_count": 7,
      "metadata": {
        "id": "4pCXDoBrK407"
      },
      "outputs": [],
      "source": [
        "import tensorflow as tf\n",
        "import numpy as np\n",
        "import matplotlib.pyplot as plt\n",
        "from tensorflow.keras.models import Sequential\n",
        "from tensorflow.keras.layers import Dense, Conv2D, MaxPooling2D, Flatten\n",
        "from tensorflow.keras.optimizers import Adam"
      ]
    },
    {
      "cell_type": "markdown",
      "source": [
        "Carregamento dos dados MNIST:"
      ],
      "metadata": {
        "id": "fDqL1SGjTc0i"
      }
    },
    {
      "cell_type": "code",
      "source": [
        "(x_train, y_train), (x_test, y_test) = tf.keras.datasets.mnist.load_data()"
      ],
      "metadata": {
        "colab": {
          "base_uri": "https://localhost:8080/"
        },
        "id": "mPoGSEDfK592",
        "outputId": "dcdc7d90-551b-4f33-c6bd-891c9af2a6b1"
      },
      "execution_count": 3,
      "outputs": [
        {
          "output_type": "stream",
          "name": "stdout",
          "text": [
            "Downloading data from https://storage.googleapis.com/tensorflow/tf-keras-datasets/mnist.npz\n",
            "\u001b[1m11490434/11490434\u001b[0m \u001b[32m━━━━━━━━━━━━━━━━━━━━\u001b[0m\u001b[37m\u001b[0m \u001b[1m0s\u001b[0m 0us/step\n"
          ]
        }
      ]
    },
    {
      "cell_type": "markdown",
      "source": [
        "Definição dos dados binários como 0 para par (Familia) e 1 para ímpar (Amigos):"
      ],
      "metadata": {
        "id": "At-KimdmTj-y"
      }
    },
    {
      "cell_type": "code",
      "source": [
        "y_train_bin = (y_train % 2 != 0).astype(np.int32)\n",
        "y_test_bin = (y_test % 2 != 0).astype(np.int32)"
      ],
      "metadata": {
        "id": "GTTSDX_KLhAc"
      },
      "execution_count": 4,
      "outputs": []
    },
    {
      "cell_type": "markdown",
      "source": [
        "Pré-processamento, normalização dos dados e ajustes de dimensões:"
      ],
      "metadata": {
        "id": "ZJYds0gIT6Oz"
      }
    },
    {
      "cell_type": "code",
      "source": [
        "x_train = x_train / 255.0\n",
        "x_test = x_test / 255.0"
      ],
      "metadata": {
        "id": "jud-tI5rLjZG"
      },
      "execution_count": 5,
      "outputs": []
    },
    {
      "cell_type": "markdown",
      "source": [
        "Adicionando a camada de cor:"
      ],
      "metadata": {
        "id": "efyAV8TfUESq"
      }
    },
    {
      "cell_type": "code",
      "source": [
        "x_train = x_train[..., tf.newaxis]\n",
        "x_test = x_test[..., tf.newaxis]"
      ],
      "metadata": {
        "id": "ATSTdvu7LlDc"
      },
      "execution_count": 6,
      "outputs": []
    },
    {
      "cell_type": "markdown",
      "source": [
        "Contrução e compilação do modelo CNN:"
      ],
      "metadata": {
        "id": "EV5IWU1VUJIy"
      }
    },
    {
      "cell_type": "code",
      "source": [
        "model = Sequential([\n",
        "    Conv2D(32, (3, 3), activation='relu', input_shape=(28, 28, 1)),\n",
        "    MaxPooling2D(2, 2),\n",
        "    Conv2D(64, (3, 3), activation='relu'),\n",
        "    MaxPooling2D(2, 2),\n",
        "    Flatten(),\n",
        "    Dense(128, activation='relu'),\n",
        "    Dense(1, activation='sigmoid')\n",
        "])\n",
        "\n",
        "model.compile(optimizer=Adam(), loss='binary_crossentropy', metrics=['accuracy'])"
      ],
      "metadata": {
        "id": "2D_cWKFqLnjN"
      },
      "execution_count": 9,
      "outputs": []
    },
    {
      "cell_type": "markdown",
      "source": [
        "Treinamento do modelo:"
      ],
      "metadata": {
        "id": "PbSxGEh3UOf6"
      }
    },
    {
      "cell_type": "code",
      "source": [
        "history = model.fit(\n",
        "    x_train, y_train_bin,\n",
        "    epochs=10,\n",
        "    batch_size=64,\n",
        "    validation_data=(x_test, y_test_bin)\n",
        ")"
      ],
      "metadata": {
        "colab": {
          "base_uri": "https://localhost:8080/"
        },
        "id": "jH1L7uYeLvZ1",
        "outputId": "6ee1662a-7641-40b7-f46d-96c6d685ce87"
      },
      "execution_count": 17,
      "outputs": [
        {
          "output_type": "stream",
          "name": "stdout",
          "text": [
            "Epoch 1/10\n",
            "\u001b[1m938/938\u001b[0m \u001b[32m━━━━━━━━━━━━━━━━━━━━\u001b[0m\u001b[37m\u001b[0m \u001b[1m48s\u001b[0m 52ms/step - accuracy: 0.9966 - loss: 0.0086 - val_accuracy: 0.9932 - val_loss: 0.0214\n",
            "Epoch 2/10\n",
            "\u001b[1m938/938\u001b[0m \u001b[32m━━━━━━━━━━━━━━━━━━━━\u001b[0m\u001b[37m\u001b[0m \u001b[1m80s\u001b[0m 49ms/step - accuracy: 0.9977 - loss: 0.0060 - val_accuracy: 0.9950 - val_loss: 0.0160\n",
            "Epoch 3/10\n",
            "\u001b[1m938/938\u001b[0m \u001b[32m━━━━━━━━━━━━━━━━━━━━\u001b[0m\u001b[37m\u001b[0m \u001b[1m81s\u001b[0m 48ms/step - accuracy: 0.9983 - loss: 0.0050 - val_accuracy: 0.9954 - val_loss: 0.0177\n",
            "Epoch 4/10\n",
            "\u001b[1m938/938\u001b[0m \u001b[32m━━━━━━━━━━━━━━━━━━━━\u001b[0m\u001b[37m\u001b[0m \u001b[1m84s\u001b[0m 50ms/step - accuracy: 0.9989 - loss: 0.0036 - val_accuracy: 0.9936 - val_loss: 0.0237\n",
            "Epoch 5/10\n",
            "\u001b[1m938/938\u001b[0m \u001b[32m━━━━━━━━━━━━━━━━━━━━\u001b[0m\u001b[37m\u001b[0m \u001b[1m80s\u001b[0m 48ms/step - accuracy: 0.9983 - loss: 0.0050 - val_accuracy: 0.9951 - val_loss: 0.0201\n",
            "Epoch 6/10\n",
            "\u001b[1m938/938\u001b[0m \u001b[32m━━━━━━━━━━━━━━━━━━━━\u001b[0m\u001b[37m\u001b[0m \u001b[1m47s\u001b[0m 50ms/step - accuracy: 0.9989 - loss: 0.0037 - val_accuracy: 0.9945 - val_loss: 0.0230\n",
            "Epoch 7/10\n",
            "\u001b[1m938/938\u001b[0m \u001b[32m━━━━━━━━━━━━━━━━━━━━\u001b[0m\u001b[37m\u001b[0m \u001b[1m80s\u001b[0m 48ms/step - accuracy: 0.9987 - loss: 0.0033 - val_accuracy: 0.9943 - val_loss: 0.0238\n",
            "Epoch 8/10\n",
            "\u001b[1m938/938\u001b[0m \u001b[32m━━━━━━━━━━━━━━━━━━━━\u001b[0m\u001b[37m\u001b[0m \u001b[1m85s\u001b[0m 51ms/step - accuracy: 0.9998 - loss: 0.0012 - val_accuracy: 0.9930 - val_loss: 0.0289\n",
            "Epoch 9/10\n",
            "\u001b[1m938/938\u001b[0m \u001b[32m━━━━━━━━━━━━━━━━━━━━\u001b[0m\u001b[37m\u001b[0m \u001b[1m79s\u001b[0m 48ms/step - accuracy: 0.9993 - loss: 0.0023 - val_accuracy: 0.9930 - val_loss: 0.0274\n",
            "Epoch 10/10\n",
            "\u001b[1m938/938\u001b[0m \u001b[32m━━━━━━━━━━━━━━━━━━━━\u001b[0m\u001b[37m\u001b[0m \u001b[1m83s\u001b[0m 49ms/step - accuracy: 0.9989 - loss: 0.0033 - val_accuracy: 0.9961 - val_loss: 0.0209\n"
          ]
        }
      ]
    },
    {
      "cell_type": "markdown",
      "source": [
        "Plotar o desempenho do treinamento:"
      ],
      "metadata": {
        "id": "HCmw6n9aUUYD"
      }
    },
    {
      "cell_type": "code",
      "source": [
        "plt.plot(history.history['accuracy'], label='accuracy')\n",
        "plt.plot(history.history['val_accuracy'], label='val_accuracy')\n",
        "plt.xlabel('Epoch')\n",
        "plt.ylabel('Accuracy')\n",
        "plt.legend()\n",
        "plt.show()"
      ],
      "metadata": {
        "colab": {
          "base_uri": "https://localhost:8080/",
          "height": 449
        },
        "id": "sENViP5XL2Zl",
        "outputId": "c950414b-a39d-4b7e-f458-f73f4e822e3f"
      },
      "execution_count": 18,
      "outputs": [
        {
          "output_type": "display_data",
          "data": {
            "text/plain": [
              "<Figure size 640x480 with 1 Axes>"
            ],
            "image/png": "[encoded data removed]"
          },
          "metadata": {}
        }
      ]
    },
    {
      "cell_type": "markdown",
      "source": [
        "Avaliar o modelo do conjunto de teste:"
      ],
      "metadata": {
        "id": "KAMoZwXWUdT5"
      }
    },
    {
      "cell_type": "code",
      "source": [
        "test_loss, test_acc = model.evaluate(x_test, y_test_bin)\n",
        "print(f\"Test accuracy: {test_acc * 100:.2f}%\")"
      ],
      "metadata": {
        "colab": {
          "base_uri": "https://localhost:8080/"
        },
        "id": "bjDkal_JSnob",
        "outputId": "e94334cc-a248-4a06-d9ec-e697a98025c5"
      },
      "execution_count": 19,
      "outputs": [
        {
          "output_type": "stream",
          "name": "stdout",
          "text": [
            "\u001b[1m313/313\u001b[0m \u001b[32m━━━━━━━━━━━━━━━━━━━━\u001b[0m\u001b[37m\u001b[0m \u001b[1m2s\u001b[0m 7ms/step - accuracy: 0.9953 - loss: 0.0237\n",
            "Test accuracy: 99.61%\n"
          ]
        }
      ]
    },
    {
      "cell_type": "markdown",
      "source": [
        "Previsão com uma imagem de teste:"
      ],
      "metadata": {
        "id": "VzmzuvGTUiK7"
      }
    },
    {
      "cell_type": "code",
      "source": [
        "index = 1\n",
        "plt.imshow(x_test[index].reshape(28, 28), cmap='gray')\n",
        "plt.title(f\"Rótulo Verdadeiro: {'Impar (Amigos)' if y_test_bin[index] == 1 else 'Par (Família)'}\")\n",
        "plt.show()"
      ],
      "metadata": {
        "colab": {
          "base_uri": "https://localhost:8080/",
          "height": 452
        },
        "id": "kK92otJTSpoa",
        "outputId": "2910976c-a9cf-465d-9122-2830b7f82394"
      },
      "execution_count": 23,
      "outputs": [
        {
          "output_type": "display_data",
          "data": {
            "text/plain": [
              "<Figure size 640x480 with 1 Axes>"
            ],
            "image/png": "[encoded data removed]"
          },
          "metadata": {}
        }
      ]
    },
    {
      "cell_type": "markdown",
      "source": [
        "Previsão do modelo:"
      ],
      "metadata": {
        "id": "JkrjRU_QVejy"
      }
    },
    {
      "cell_type": "code",
      "source": [
        "prediction = model.predict(np.expand_dims(x_test[index], axis=0))\n",
        "probability = prediction[0][0]\n",
        "class_label = 'Ímpar (Amigos)' if probability > 0.5 else 'Par (Família)'\n",
        "print(f\"Probabilidade de Ímpar: {probability * 100:.2f}%\")\n",
        "print(f\"Modelo previu: {class_label}\")"
      ],
      "metadata": {
        "colab": {
          "base_uri": "https://localhost:8080/"
        },
        "id": "eVRNp610S2xR",
        "outputId": "213d8786-3912-43a4-d5b1-51a0eced6771"
      },
      "execution_count": 24,
      "outputs": [
        {
          "output_type": "stream",
          "name": "stdout",
          "text": [
            "\u001b[1m1/1\u001b[0m \u001b[32m━━━━━━━━━━━━━━━━━━━━\u001b[0m\u001b[37m\u001b[0m \u001b[1m0s\u001b[0m 57ms/step\n",
            "Probabilidade de Ímpar: 0.00%\n",
            "Modelo previu: Par (Família)\n"
          ]
        }
      ]
    }
  ]
}